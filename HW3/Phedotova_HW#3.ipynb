{
 "cells": [
  {
   "cell_type": "code",
   "execution_count": 122,
   "metadata": {},
   "outputs": [],
   "source": [
    "import numpy as np\n",
    "import pandas as pd\n",
    "import seaborn as sns\n",
    "import matplotlib.pyplot as plt\n",
    "import Bio\n",
    "from scipy.stats import f_oneway\n",
    "%matplotlib inline"
   ]
  },
  {
   "cell_type": "code",
   "execution_count": 123,
   "metadata": {},
   "outputs": [
    {
     "data": {
      "text/html": [
       "<div>\n",
       "<style scoped>\n",
       "    .dataframe tbody tr th:only-of-type {\n",
       "        vertical-align: middle;\n",
       "    }\n",
       "\n",
       "    .dataframe tbody tr th {\n",
       "        vertical-align: top;\n",
       "    }\n",
       "\n",
       "    .dataframe thead th {\n",
       "        text-align: right;\n",
       "    }\n",
       "</style>\n",
       "<table border=\"1\" class=\"dataframe\">\n",
       "  <thead>\n",
       "    <tr style=\"text-align: right;\">\n",
       "      <th></th>\n",
       "      <th>SubjectID</th>\n",
       "      <th>Haplotype</th>\n",
       "      <th>Usage</th>\n",
       "    </tr>\n",
       "  </thead>\n",
       "  <tbody>\n",
       "    <tr>\n",
       "      <th>0</th>\n",
       "      <td>1</td>\n",
       "      <td>2-6</td>\n",
       "      <td>0.106471</td>\n",
       "    </tr>\n",
       "    <tr>\n",
       "      <th>1</th>\n",
       "      <td>2</td>\n",
       "      <td>4</td>\n",
       "      <td>0.022486</td>\n",
       "    </tr>\n",
       "    <tr>\n",
       "      <th>2</th>\n",
       "      <td>3</td>\n",
       "      <td>2-6</td>\n",
       "      <td>0.075551</td>\n",
       "    </tr>\n",
       "    <tr>\n",
       "      <th>3</th>\n",
       "      <td>4</td>\n",
       "      <td>4</td>\n",
       "      <td>0.046183</td>\n",
       "    </tr>\n",
       "    <tr>\n",
       "      <th>4</th>\n",
       "      <td>5</td>\n",
       "      <td>4-6</td>\n",
       "      <td>0.059380</td>\n",
       "    </tr>\n",
       "  </tbody>\n",
       "</table>\n",
       "</div>"
      ],
      "text/plain": [
       "   SubjectID Haplotype     Usage\n",
       "0          1       2-6  0.106471\n",
       "1          2         4  0.022486\n",
       "2          3       2-6  0.075551\n",
       "3          4         4  0.046183\n",
       "4          5       4-6  0.059380"
      ]
     },
     "execution_count": 123,
     "metadata": {},
     "output_type": "execute_result"
    }
   ],
   "source": [
    "df = pd.read_csv('IGHV1-2_usage.csv')\n",
    "df.head(5)"
   ]
  },
  {
   "cell_type": "code",
   "execution_count": 124,
   "metadata": {},
   "outputs": [
    {
     "data": {
      "image/png": "[encoded data removed]",
      "text/plain": [
       "<Figure size 432x288 with 1 Axes>"
      ]
     },
     "metadata": {
      "needs_background": "light"
     },
     "output_type": "display_data"
    }
   ],
   "source": [
    "sns.boxplot(x=\"Haplotype\", y=\"Usage\", data=df)\n",
    "plt.show()"
   ]
  },
  {
   "cell_type": "code",
   "execution_count": 125,
   "metadata": {},
   "outputs": [
    {
     "data": {
      "text/html": [
       "<div>\n",
       "<style scoped>\n",
       "    .dataframe tbody tr th:only-of-type {\n",
       "        vertical-align: middle;\n",
       "    }\n",
       "\n",
       "    .dataframe tbody tr th {\n",
       "        vertical-align: top;\n",
       "    }\n",
       "\n",
       "    .dataframe thead th {\n",
       "        text-align: right;\n",
       "    }\n",
       "</style>\n",
       "<table border=\"1\" class=\"dataframe\">\n",
       "  <thead>\n",
       "    <tr style=\"text-align: right;\">\n",
       "      <th></th>\n",
       "      <th>Haplotype</th>\n",
       "      <th>mean</th>\n",
       "      <th>count</th>\n",
       "    </tr>\n",
       "  </thead>\n",
       "  <tbody>\n",
       "    <tr>\n",
       "      <th>0</th>\n",
       "      <td>2</td>\n",
       "      <td>0.086191</td>\n",
       "      <td>17</td>\n",
       "    </tr>\n",
       "    <tr>\n",
       "      <th>1</th>\n",
       "      <td>2-4</td>\n",
       "      <td>0.077451</td>\n",
       "      <td>28</td>\n",
       "    </tr>\n",
       "    <tr>\n",
       "      <th>2</th>\n",
       "      <td>2-6</td>\n",
       "      <td>0.086956</td>\n",
       "      <td>6</td>\n",
       "    </tr>\n",
       "    <tr>\n",
       "      <th>3</th>\n",
       "      <td>4</td>\n",
       "      <td>0.027895</td>\n",
       "      <td>18</td>\n",
       "    </tr>\n",
       "    <tr>\n",
       "      <th>4</th>\n",
       "      <td>4-6</td>\n",
       "      <td>0.071032</td>\n",
       "      <td>14</td>\n",
       "    </tr>\n",
       "    <tr>\n",
       "      <th>5</th>\n",
       "      <td>6</td>\n",
       "      <td>0.069571</td>\n",
       "      <td>2</td>\n",
       "    </tr>\n",
       "  </tbody>\n",
       "</table>\n",
       "</div>"
      ],
      "text/plain": [
       "  Haplotype      mean  count\n",
       "0         2  0.086191     17\n",
       "1       2-4  0.077451     28\n",
       "2       2-6  0.086956      6\n",
       "3         4  0.027895     18\n",
       "4       4-6  0.071032     14\n",
       "5         6  0.069571      2"
      ]
     },
     "execution_count": 125,
     "metadata": {},
     "output_type": "execute_result"
    }
   ],
   "source": [
    "df1 = df.groupby('Haplotype')['Usage'].agg(['mean','count']).reset_index()\n",
    "df1"
   ]
  },
  {
   "cell_type": "code",
   "execution_count": 126,
   "metadata": {},
   "outputs": [],
   "source": [
    "data_array = []\n",
    "for h1 in df1['Haplotype']:\n",
    "        row = []\n",
    "        for h2 in df1['Haplotype']:\n",
    "            a = df[df['Haplotype'] == h1]['Usage']\n",
    "            b = df[df['Haplotype'] == h2]['Usage']\n",
    "            F, p = f_oneway(a, b)\n",
    "            row.append(round(p,4))\n",
    "        data_array.append(row)"
   ]
  },
  {
   "cell_type": "code",
   "execution_count": 127,
   "metadata": {},
   "outputs": [
    {
     "data": {
      "text/html": [
       "<div>\n",
       "<style scoped>\n",
       "    .dataframe tbody tr th:only-of-type {\n",
       "        vertical-align: middle;\n",
       "    }\n",
       "\n",
       "    .dataframe tbody tr th {\n",
       "        vertical-align: top;\n",
       "    }\n",
       "\n",
       "    .dataframe thead th {\n",
       "        text-align: right;\n",
       "    }\n",
       "</style>\n",
       "<table border=\"1\" class=\"dataframe\">\n",
       "  <thead>\n",
       "    <tr style=\"text-align: right;\">\n",
       "      <th></th>\n",
       "      <th>2</th>\n",
       "      <th>2-4</th>\n",
       "      <th>2-6</th>\n",
       "      <th>4</th>\n",
       "      <th>4-6</th>\n",
       "      <th>6</th>\n",
       "    </tr>\n",
       "  </thead>\n",
       "  <tbody>\n",
       "    <tr>\n",
       "      <th>2</th>\n",
       "      <td>1.0000</td>\n",
       "      <td>0.2625</td>\n",
       "      <td>0.9461</td>\n",
       "      <td>0.0000</td>\n",
       "      <td>0.1227</td>\n",
       "      <td>0.3849</td>\n",
       "    </tr>\n",
       "    <tr>\n",
       "      <th>2-4</th>\n",
       "      <td>0.2625</td>\n",
       "      <td>1.0000</td>\n",
       "      <td>0.4161</td>\n",
       "      <td>0.0000</td>\n",
       "      <td>0.4756</td>\n",
       "      <td>0.6900</td>\n",
       "    </tr>\n",
       "    <tr>\n",
       "      <th>2-6</th>\n",
       "      <td>0.9461</td>\n",
       "      <td>0.4161</td>\n",
       "      <td>1.0000</td>\n",
       "      <td>0.0000</td>\n",
       "      <td>0.2626</td>\n",
       "      <td>0.4737</td>\n",
       "    </tr>\n",
       "    <tr>\n",
       "      <th>4</th>\n",
       "      <td>0.0000</td>\n",
       "      <td>0.0000</td>\n",
       "      <td>0.0000</td>\n",
       "      <td>1.0000</td>\n",
       "      <td>0.0000</td>\n",
       "      <td>0.0039</td>\n",
       "    </tr>\n",
       "    <tr>\n",
       "      <th>4-6</th>\n",
       "      <td>0.1227</td>\n",
       "      <td>0.4756</td>\n",
       "      <td>0.2626</td>\n",
       "      <td>0.0000</td>\n",
       "      <td>1.0000</td>\n",
       "      <td>0.9508</td>\n",
       "    </tr>\n",
       "    <tr>\n",
       "      <th>6</th>\n",
       "      <td>0.3849</td>\n",
       "      <td>0.6900</td>\n",
       "      <td>0.4737</td>\n",
       "      <td>0.0039</td>\n",
       "      <td>0.9508</td>\n",
       "      <td>1.0000</td>\n",
       "    </tr>\n",
       "  </tbody>\n",
       "</table>\n",
       "</div>"
      ],
      "text/plain": [
       "          2     2-4     2-6       4     4-6       6\n",
       "2    1.0000  0.2625  0.9461  0.0000  0.1227  0.3849\n",
       "2-4  0.2625  1.0000  0.4161  0.0000  0.4756  0.6900\n",
       "2-6  0.9461  0.4161  1.0000  0.0000  0.2626  0.4737\n",
       "4    0.0000  0.0000  0.0000  1.0000  0.0000  0.0039\n",
       "4-6  0.1227  0.4756  0.2626  0.0000  1.0000  0.9508\n",
       "6    0.3849  0.6900  0.4737  0.0039  0.9508  1.0000"
      ]
     },
     "execution_count": 127,
     "metadata": {},
     "output_type": "execute_result"
    }
   ],
   "source": [
    "p_df = pd.DataFrame(data = np.array(data_array), \n",
    "index = ['2','2-4','2-6','4','4-6','6'], columns = ['2','2-4','2-6','4','4-6','6'])\n",
    "p_df"
   ]
  },
  {
   "cell_type": "code",
   "execution_count": 128,
   "metadata": {},
   "outputs": [],
   "source": [
    "def snp1_state(haplotype):\n",
    "    if haplotype == '2':\n",
    "        return 'T'\n",
    "    elif haplotype == '2-4':\n",
    "        return 'T'\n",
    "    elif haplotype == '2-6':\n",
    "        return 'C/T'\n",
    "    elif haplotype == '4':\n",
    "        return 'T'\n",
    "    elif haplotype == '4-6':\n",
    "        return 'C/T'\n",
    "    elif haplotype == '6':\n",
    "        return 'C'"
   ]
  },
  {
   "cell_type": "code",
   "execution_count": 129,
   "metadata": {},
   "outputs": [],
   "source": [
    "def snp2_state(haplotype):\n",
    "    if haplotype == '2':\n",
    "        return 'A'\n",
    "    elif haplotype == '2-4':\n",
    "        return 'A/T'\n",
    "    elif haplotype == '2-6':\n",
    "        return 'A'\n",
    "    elif haplotype == '4':\n",
    "        return 'T'\n",
    "    elif haplotype == '4-6':\n",
    "        return 'A/T'\n",
    "    elif haplotype == '6':\n",
    "        return 'A'"
   ]
  },
  {
   "cell_type": "code",
   "execution_count": 130,
   "metadata": {},
   "outputs": [
    {
     "data": {
      "text/html": [
       "<div>\n",
       "<style scoped>\n",
       "    .dataframe tbody tr th:only-of-type {\n",
       "        vertical-align: middle;\n",
       "    }\n",
       "\n",
       "    .dataframe tbody tr th {\n",
       "        vertical-align: top;\n",
       "    }\n",
       "\n",
       "    .dataframe thead th {\n",
       "        text-align: right;\n",
       "    }\n",
       "</style>\n",
       "<table border=\"1\" class=\"dataframe\">\n",
       "  <thead>\n",
       "    <tr style=\"text-align: right;\">\n",
       "      <th></th>\n",
       "      <th>SubjectID</th>\n",
       "      <th>Haplotype</th>\n",
       "      <th>Usage</th>\n",
       "      <th>SNP1_state</th>\n",
       "      <th>SNP2_state</th>\n",
       "    </tr>\n",
       "  </thead>\n",
       "  <tbody>\n",
       "    <tr>\n",
       "      <th>0</th>\n",
       "      <td>1</td>\n",
       "      <td>2-6</td>\n",
       "      <td>0.106471</td>\n",
       "      <td>C/T</td>\n",
       "      <td>A</td>\n",
       "    </tr>\n",
       "    <tr>\n",
       "      <th>1</th>\n",
       "      <td>2</td>\n",
       "      <td>4</td>\n",
       "      <td>0.022486</td>\n",
       "      <td>T</td>\n",
       "      <td>T</td>\n",
       "    </tr>\n",
       "    <tr>\n",
       "      <th>2</th>\n",
       "      <td>3</td>\n",
       "      <td>2-6</td>\n",
       "      <td>0.075551</td>\n",
       "      <td>C/T</td>\n",
       "      <td>A</td>\n",
       "    </tr>\n",
       "    <tr>\n",
       "      <th>3</th>\n",
       "      <td>4</td>\n",
       "      <td>4</td>\n",
       "      <td>0.046183</td>\n",
       "      <td>T</td>\n",
       "      <td>T</td>\n",
       "    </tr>\n",
       "    <tr>\n",
       "      <th>4</th>\n",
       "      <td>5</td>\n",
       "      <td>4-6</td>\n",
       "      <td>0.059380</td>\n",
       "      <td>C/T</td>\n",
       "      <td>A/T</td>\n",
       "    </tr>\n",
       "  </tbody>\n",
       "</table>\n",
       "</div>"
      ],
      "text/plain": [
       "   SubjectID Haplotype     Usage SNP1_state SNP2_state\n",
       "0          1       2-6  0.106471        C/T          A\n",
       "1          2         4  0.022486          T          T\n",
       "2          3       2-6  0.075551        C/T          A\n",
       "3          4         4  0.046183          T          T\n",
       "4          5       4-6  0.059380        C/T        A/T"
      ]
     },
     "execution_count": 130,
     "metadata": {},
     "output_type": "execute_result"
    }
   ],
   "source": [
    "df2 = df\n",
    "df2['SNP1_state'] = df2['Haplotype'].apply(snp1_state)\n",
    "df2['SNP2_state'] = df2['Haplotype'].apply(snp2_state)\n",
    "df2.head()"
   ]
  },
  {
   "cell_type": "code",
   "execution_count": 131,
   "metadata": {},
   "outputs": [
    {
     "data": {
      "image/png": "[encoded data removed]",
      "text/plain": [
       "<Figure size 432x288 with 1 Axes>"
      ]
     },
     "metadata": {
      "needs_background": "light"
     },
     "output_type": "display_data"
    }
   ],
   "source": [
    "sns.boxplot(x='SNP1_state',y='Usage', data=df2)\n",
    "plt.show()"
   ]
  },
  {
   "cell_type": "code",
   "execution_count": 132,
   "metadata": {},
   "outputs": [
    {
     "data": {
      "image/png": "[encoded data removed]",
      "text/plain": [
       "<Figure size 432x288 with 1 Axes>"
      ]
     },
     "metadata": {
      "needs_background": "light"
     },
     "output_type": "display_data"
    }
   ],
   "source": [
    "sns.boxplot(x='SNP2_state', y='Usage', data=df2)\n",
    "plt.show()"
   ]
  },
  {
   "cell_type": "code",
   "execution_count": 133,
   "metadata": {},
   "outputs": [
    {
     "data": {
      "text/plain": [
       "0      C\n",
       "1    C/T\n",
       "2      T\n",
       "Name: SNP1_state, dtype: object"
      ]
     },
     "execution_count": 133,
     "metadata": {},
     "output_type": "execute_result"
    }
   ],
   "source": [
    "df3 = df2.groupby('SNP1_state')['SNP1_state'].agg(['count']).reset_index()\n",
    "df3['SNP1_state']"
   ]
  },
  {
   "cell_type": "code",
   "execution_count": 134,
   "metadata": {},
   "outputs": [
    {
     "data": {
      "text/html": [
       "<div>\n",
       "<style scoped>\n",
       "    .dataframe tbody tr th:only-of-type {\n",
       "        vertical-align: middle;\n",
       "    }\n",
       "\n",
       "    .dataframe tbody tr th {\n",
       "        vertical-align: top;\n",
       "    }\n",
       "\n",
       "    .dataframe thead th {\n",
       "        text-align: right;\n",
       "    }\n",
       "</style>\n",
       "<table border=\"1\" class=\"dataframe\">\n",
       "  <thead>\n",
       "    <tr style=\"text-align: right;\">\n",
       "      <th>SNP1_state</th>\n",
       "      <th>C</th>\n",
       "      <th>C/T</th>\n",
       "      <th>T</th>\n",
       "    </tr>\n",
       "    <tr>\n",
       "      <th>SNP1_state</th>\n",
       "      <th></th>\n",
       "      <th></th>\n",
       "      <th></th>\n",
       "    </tr>\n",
       "  </thead>\n",
       "  <tbody>\n",
       "    <tr>\n",
       "      <th>C</th>\n",
       "      <td>1.0000</td>\n",
       "      <td>0.7771</td>\n",
       "      <td>0.8694</td>\n",
       "    </tr>\n",
       "    <tr>\n",
       "      <th>C/T</th>\n",
       "      <td>0.7771</td>\n",
       "      <td>1.0000</td>\n",
       "      <td>0.2183</td>\n",
       "    </tr>\n",
       "    <tr>\n",
       "      <th>T</th>\n",
       "      <td>0.8694</td>\n",
       "      <td>0.2183</td>\n",
       "      <td>1.0000</td>\n",
       "    </tr>\n",
       "  </tbody>\n",
       "</table>\n",
       "</div>"
      ],
      "text/plain": [
       "SNP1_state       C     C/T       T\n",
       "SNP1_state                        \n",
       "C           1.0000  0.7771  0.8694\n",
       "C/T         0.7771  1.0000  0.2183\n",
       "T           0.8694  0.2183  1.0000"
      ]
     },
     "execution_count": 134,
     "metadata": {},
     "output_type": "execute_result"
    }
   ],
   "source": [
    "df3 = df2.groupby('SNP1_state')['SNP1_state'].agg(['count']).reset_index()\n",
    "df3['SNP1_state']\n",
    "\n",
    "SNP1_data_array = []\n",
    "for s1 in df3['SNP1_state']:\n",
    "    row = []\n",
    "    for s2 in df3['SNP1_state']:\n",
    "        a = df2[df2['SNP1_state'] == s1]['Usage']\n",
    "        b = df2[df2['SNP1_state'] == s2]['Usage']\n",
    "        F, p = f_oneway(a,b)\n",
    "        row.append(round(p,4))\n",
    "    SNP1_data_array.append(row)\n",
    "    \n",
    "p_SNP1 = pd.DataFrame(data = np.array(SNP1_data_array), \n",
    "index = df3['SNP1_state'], columns = df3['SNP1_state'])\n",
    "p_SNP1"
   ]
  },
  {
   "cell_type": "code",
   "execution_count": 135,
   "metadata": {},
   "outputs": [
    {
     "data": {
      "text/plain": [
       "0      A\n",
       "1    A/T\n",
       "2      T\n",
       "Name: SNP2_state, dtype: object"
      ]
     },
     "execution_count": 135,
     "metadata": {},
     "output_type": "execute_result"
    }
   ],
   "source": [
    "df4 = df2.groupby('SNP2_state')['SNP2_state'].agg(['count']).reset_index()\n",
    "df4['SNP2_state']"
   ]
  },
  {
   "cell_type": "code",
   "execution_count": 136,
   "metadata": {},
   "outputs": [
    {
     "data": {
      "text/html": [
       "<div>\n",
       "<style scoped>\n",
       "    .dataframe tbody tr th:only-of-type {\n",
       "        vertical-align: middle;\n",
       "    }\n",
       "\n",
       "    .dataframe tbody tr th {\n",
       "        vertical-align: top;\n",
       "    }\n",
       "\n",
       "    .dataframe thead th {\n",
       "        text-align: right;\n",
       "    }\n",
       "</style>\n",
       "<table border=\"1\" class=\"dataframe\">\n",
       "  <thead>\n",
       "    <tr style=\"text-align: right;\">\n",
       "      <th>SNP2_state</th>\n",
       "      <th>A</th>\n",
       "      <th>A/T</th>\n",
       "      <th>T</th>\n",
       "    </tr>\n",
       "    <tr>\n",
       "      <th>SNP2_state</th>\n",
       "      <th></th>\n",
       "      <th></th>\n",
       "      <th></th>\n",
       "    </tr>\n",
       "  </thead>\n",
       "  <tbody>\n",
       "    <tr>\n",
       "      <th>A</th>\n",
       "      <td>1.0000</td>\n",
       "      <td>0.1433</td>\n",
       "      <td>0.0</td>\n",
       "    </tr>\n",
       "    <tr>\n",
       "      <th>A/T</th>\n",
       "      <td>0.1433</td>\n",
       "      <td>NaN</td>\n",
       "      <td>0.0</td>\n",
       "    </tr>\n",
       "    <tr>\n",
       "      <th>T</th>\n",
       "      <td>0.0000</td>\n",
       "      <td>0.0000</td>\n",
       "      <td>1.0</td>\n",
       "    </tr>\n",
       "  </tbody>\n",
       "</table>\n",
       "</div>"
      ],
      "text/plain": [
       "SNP2_state       A     A/T    T\n",
       "SNP2_state                     \n",
       "A           1.0000  0.1433  0.0\n",
       "A/T         0.1433     NaN  0.0\n",
       "T           0.0000  0.0000  1.0"
      ]
     },
     "execution_count": 136,
     "metadata": {},
     "output_type": "execute_result"
    }
   ],
   "source": [
    "SNP2_data_array = []\n",
    "for s1 in df4['SNP2_state']:\n",
    "    row = []\n",
    "    for s2 in df4['SNP2_state']:\n",
    "        a = df2[df2['SNP2_state'] == s1]['Usage']\n",
    "        b = df2[df2['SNP2_state'] == s2]['Usage']\n",
    "        F, p = f_oneway(a,b)\n",
    "        row.append(round(p,4))\n",
    "    SNP2_data_array.append(row)\n",
    "    \n",
    "p_SNP2 = pd.DataFrame(data = np.array(SNP2_data_array), \n",
    "index = df4['SNP2_state'], columns = df4['SNP2_state'])\n",
    "p_SNP2"
   ]
  }
 ],
 "metadata": {
  "kernelspec": {
   "display_name": "Python 3",
   "language": "python",
   "name": "python3"
  },
  "language_info": {
   "codemirror_mode": {
    "name": "ipython",
    "version": 3
   },
   "file_extension": ".py",
   "mimetype": "text/x-python",
   "name": "python",
   "nbconvert_exporter": "python",
   "pygments_lexer": "ipython3",
   "version": "3.7.3"
  }
 },
 "nbformat": 4,
 "nbformat_minor": 2
}
